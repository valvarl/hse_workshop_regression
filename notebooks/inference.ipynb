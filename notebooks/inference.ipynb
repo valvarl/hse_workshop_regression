{
 "cells": [
  {
   "cell_type": "markdown",
   "id": "d05ec370-ec47-4a45-afdb-cfa1fed66017",
   "metadata": {},
   "source": [
    "# INFERENCE"
   ]
  },
  {
   "cell_type": "code",
   "execution_count": 1,
   "id": "ab5dad46-f542-4cb1-bc58-e0ac3ca540fc",
   "metadata": {},
   "outputs": [],
   "source": [
    "import os\n",
    "import time\n",
    "import numpy as np\n",
    "import pandas as pd\n",
    "\n",
    "from src import utils\n",
    "\n",
    "data_path = '../data/processed'\n",
    "model_path = '../models'\n",
    "retort_path = '../reports'"
   ]
  },
  {
   "cell_type": "code",
   "execution_count": 2,
   "id": "f80d3738-fd8f-44da-b5dc-13c2a0e3cd90",
   "metadata": {},
   "outputs": [],
   "source": [
    "train = pd.read_pickle(os.path.join(data_path, 'train.pkl'))\n",
    "target = pd.read_pickle(os.path.join(data_path, 'train_target.pkl'))\n",
    "test = pd.read_pickle(os.path.join(data_path, 'test.pkl'))"
   ]
  },
  {
   "cell_type": "code",
   "execution_count": 3,
   "id": "6f1327f8-f904-4750-a152-310948dc7eba",
   "metadata": {},
   "outputs": [],
   "source": [
    "ridge = utils.load_model(os.path.join(model_path, 'ridge.pkl'))\n",
    "catboost = utils.load_model(os.path.join(model_path, 'catboost.pkl'))"
   ]
  },
  {
   "cell_type": "code",
   "execution_count": 4,
   "id": "02688597-97fa-45a4-995f-3c828f57e13e",
   "metadata": {},
   "outputs": [],
   "source": [
    "models = [ridge, catboost]\n",
    "\n",
    "for name, model in zip(['ridge', 'catboost'], models):\n",
    "    model.fit(train, target)\n",
    "    y_pred = model.predict(test)\n",
    "    res = pd.concat([pd.Series(test.index), pd.Series(np.expm1(y_pred))], axis=1)\n",
    "    res.to_csv(os.path.join(retort_path, f'{name}_{time.time()}.csv'))"
   ]
  }
 ],
 "metadata": {
  "kernelspec": {
   "display_name": "Python 3 (ipykernel)",
   "language": "python",
   "name": "python3"
  },
  "language_info": {
   "codemirror_mode": {
    "name": "ipython",
    "version": 3
   },
   "file_extension": ".py",
   "mimetype": "text/x-python",
   "name": "python",
   "nbconvert_exporter": "python",
   "pygments_lexer": "ipython3",
   "version": "3.9.13"
  }
 },
 "nbformat": 4,
 "nbformat_minor": 5
}
